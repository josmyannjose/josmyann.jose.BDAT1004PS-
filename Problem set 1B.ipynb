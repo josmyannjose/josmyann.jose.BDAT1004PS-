{
 "cells": [
  {
   "cell_type": "markdown",
   "id": "7cd5bf31",
   "metadata": {},
   "source": [
    "* Question: 6 Python\n",
    "You can turn a word into pig-Latin using the following two rules (simplified):\n",
    "• If the word starts with a consonant, move that letter to the end and append'ay'. For example, 'happy' becomes 'appyhay' and 'pencil' becomes 'encilpay'.\n",
    "• If the word starts with a vowel, simply append 'way' to the end of the word.For example, 'enter' becomes 'enterway' and 'other' becomes 'otherway' . For our purposes, there are 5 vowels: a, e, i, o, u (so we count y as a consonant).\n",
    "Write a function pig() that takes a word (i.e., a string) as input and returns its pig-Latin form. Your function should still work if the input word contains upper casecharacters. Your output should always be lower case however."
   ]
  },
  {
   "cell_type": "code",
   "execution_count": 3,
   "id": "f5f60d16",
   "metadata": {},
   "outputs": [
    {
     "name": "stdout",
     "output_type": "stream",
     "text": [
      "appyhay\n",
      "encilpay\n",
      "enterway\n",
      "otherway\n",
      "appleway\n"
     ]
    }
   ],
   "source": [
    "def pig(Word):\n",
    "    Word = Word.lower()\n",
    "    Vowels = ['a', 'e', 'i', 'o', 'u']\n",
    "    if Word[0] in Vowels:\n",
    "        pig_latin_word = Word + 'way'\n",
    "    else:\n",
    "        for index, letter in enumerate(Word):\n",
    "            if letter in Vowels:\n",
    "                break\n",
    "        pig_latin_word = Word[index:] + Word[:index] + 'ay'\n",
    "        \n",
    "    return pig_latin_word\n",
    "print(pig(\"happy\"))\n",
    "print(pig(\"pencil\"))\n",
    "print(pig(\"enter\"))\n",
    "print(pig(\"other\"))\n",
    "print(pig(\"apple\"))"
   ]
  },
  {
   "cell_type": "markdown",
   "id": "492f6130",
   "metadata": {},
   "source": [
    "* Question: 7 Python\n",
    "File bloodtype1.txt records blood-types of patients (A, B, AB, O or OO) at a clinic. Write a function bldcount() that reads the file with name name and reports (i.e.,prints) how many patients there are in each bloodtype."
   ]
  },
  {
   "cell_type": "code",
   "execution_count": 31,
   "id": "17fc59d7",
   "metadata": {},
   "outputs": [
    {
     "name": "stdout",
     "output_type": "stream",
     "text": [
      "The number of patients with blood group AB is 13\n",
      "The number of patients with blood group A is 15\n",
      "The number of patients with blood group B is 1\n",
      "The number of patients with blood group O is 15\n",
      "The number of patients with blood group OO is 0\n"
     ]
    }
   ],
   "source": [
    "def bldcount(fileName):\n",
    "    file = open(fileName, 'r')\n",
    "    getData = file.read()\n",
    "    getCount = 0\n",
    "    covert_array = getData.split()\n",
    "    baseData = {'A','B','AB','O','OO'}\n",
    "    for x in baseData:\n",
    "        getCount = covert_array.count(x)\n",
    "        print(\"The number of patients with blood group {1} is {0}\".format(getCount,x))\n",
    "        \n",
    "bldcount(r'D:\\Georgian College BDAT\\Data Programming\\bloodtype1.txt')\n",
    "    "
   ]
  },
  {
   "cell_type": "markdown",
   "id": "527b84ed",
   "metadata": {},
   "source": [
    "* Question: 8 Python\n",
    "Write a function curconv() that takes as input:\n",
    "1.a currency represented using a string (e.g., 'JPY' for the Japanese Yen or'EUR' for the Euro)\n",
    "2.an amountand then converts and returns the amount in US dollars."
   ]
  },
  {
   "cell_type": "code",
   "execution_count": 38,
   "id": "3ec7b798",
   "metadata": {},
   "outputs": [
    {
     "name": "stdout",
     "output_type": "stream",
     "text": [
      "500 NZD = 400.18 USD\n"
     ]
    }
   ],
   "source": [
    "def curconv(currency, amount):\n",
    "    conversionRates = {'AUD': 1.0345157, 'CHF': 1.0237414, 'CNY': 0.1550176, 'DKK': 0.1651442, 'EUR': 1.2296544, 'GBP': 1.5550989, 'HKD': 0.1270207, 'INR': 0.017764, 'JPY': 0.01241401, 'MXN': 0.0751848, 'MYR': 0.3145411, 'NOK': 0.1677063, 'NZD': 0.8003591, 'PHP': 0.0233234, 'SEK': 0.148269, 'SGD': 0.788871, 'THB': 0.0313789}\n",
    "    \n",
    "    if currency in conversionRates:\n",
    "        rate = conversionRates[currency]\n",
    "        usdAmount = amount * rate\n",
    "        return usdAmount\n",
    "    else:\n",
    "        return \"Currency not found.\"\n",
    "    \n",
    "#example\n",
    "amount_in_NZD = 500\n",
    "usd_rate = curconv('NZD', amount_in_NZD)\n",
    "if isinstance(usd_rate, float):\n",
    "    print(f\"{amount_in_NZD} NZD = {usd_rate:.2f} USD\")"
   ]
  },
  {
   "cell_type": "markdown",
   "id": "4c05e5d8",
   "metadata": {},
   "source": [
    "* Question: 9 Python\n",
    "Each of the following will cause an exception (an error). Identify what type ofexception each will cause.\n",
    "Trying to add incompatible variables, as in adding 6 + ‘a’\n",
    "Referring to the 12th item of a list that has only 10 items\n",
    "Using a value that is out of range for a function’s input, such as calling math.sqrt(-1.0)\n",
    "Using an undeclared variable, such as print(x) when x has not been defined\n",
    "Trying to open a file that does not exist, such as mistyping the file name or looking in the wrong directory."
   ]
  },
  {
   "cell_type": "markdown",
   "id": "1edc53f9",
   "metadata": {},
   "source": [
    "Trying to add incompatible variables, as in adding 6 + ‘a’ : Type error\n",
    "\n",
    "Referring to the 12th item of a list that has only 10 items : Index error\n",
    "\n",
    "Using a value that is out of range for a function’s input, such as calling math.sqrt(-1.0) : Value error\n",
    "\n",
    "Using an undeclared variable, such as print(x) when x has not been defined : Name error\n",
    "\n",
    "Trying to open a file that does not exist, such as mistyping the file name or looking in the wrong directory : 'File not found' error"
   ]
  },
  {
   "cell_type": "markdown",
   "id": "bd2ac452",
   "metadata": {},
   "source": [
    "* Question: 10 Python\n",
    "Encryption is the process of hiding the meaning of a text by substituting letters in the message with other letters, according to some system. If the process is successful, no one but the intended recipient can understand the encrypted message. Cryptanalysis refers to attempts to undo the encryption, even if some details of the encryption areunknown (for example, if an encrypted message has been intercepted). The first step of cryptanalysis is often to build up a table of letter frequencies in the encrypted text.Assume that the string letters is already defined as'abcdefghijklmnopqrstuvwxyz'. Write a function called frequencies()that takes a string as its only parameter, and returns a list of integers, showing thenumber of times each character appears in the text. Your function may ignore any characters that are not in letters"
   ]
  },
  {
   "cell_type": "code",
   "execution_count": 32,
   "id": "eaa5a622",
   "metadata": {},
   "outputs": [
    {
     "name": "stdout",
     "output_type": "stream",
     "text": [
      "[1, 1, 1, 3, 5, 1, 1, 2, 1, 0, 1, 0, 1, 2, 4, 0, 1, 2, 0, 3, 1, 0, 1, 1, 0, 0]\n",
      "[1, 0, 0, 0, 1, 0, 0, 0, 0, 2, 0, 0, 1, 2, 2, 0, 0, 0, 2, 0, 0, 0, 0, 0, 1, 0]\n",
      "[1, 0, 0, 0, 1, 0, 0, 0, 0, 0, 0, 1, 0, 0, 0, 2, 0, 0, 1, 0, 0, 0, 0, 0, 0, 0]\n"
     ]
    }
   ],
   "source": [
    "def frequencies(text):\n",
    "    text = text.lower()\n",
    "    letters = \"abcdefghijklmnopqrstuvwxyz\"\n",
    "    frequency = [0] * 26\n",
    "    \n",
    "    for char in text:\n",
    "        if char in letters:\n",
    "            index = letters.index(char)\n",
    "            frequency[index] += 1\n",
    "    return frequency\n",
    "\n",
    "print(frequencies(\"The quick red fox got bored and went home.\"))\n",
    "print(frequencies(\"Josmy Ann Jose\"))\n",
    "print(frequencies(\"Apples\"))"
   ]
  }
 ],
 "metadata": {
  "kernelspec": {
   "display_name": "Python 3 (ipykernel)",
   "language": "python",
   "name": "python3"
  },
  "language_info": {
   "codemirror_mode": {
    "name": "ipython",
    "version": 3
   },
   "file_extension": ".py",
   "mimetype": "text/x-python",
   "name": "python",
   "nbconvert_exporter": "python",
   "pygments_lexer": "ipython3",
   "version": "3.11.5"
  }
 },
 "nbformat": 4,
 "nbformat_minor": 5
}
