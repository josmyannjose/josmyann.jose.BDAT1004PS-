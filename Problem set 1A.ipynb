{
 "cells": [
  {
   "cell_type": "markdown",
   "id": "98118840",
   "metadata": {},
   "source": [
    "* Question: 1 C#\n",
    "What data type is each of the following?\n",
    "5 : Integer\n",
    "5.0 : Float\n",
    "5 > 1 : Boolean\n",
    "'5' : String\n",
    "5 * 2 : Integer\n",
    "'5' * 2 : String\n",
    "'5' + '2' : String\n",
    "5 / 2 : Float\n",
    "5 % 2 : Integer\n",
    "{5, 2, 1} : Set\n",
    "5 == 3 : Boolean\n",
    "Pi (the number) : Floating data"
   ]
  },
  {
   "cell_type": "markdown",
   "id": "f54d72c2",
   "metadata": {},
   "source": [
    "* Question: 2 C#\n",
    "Write (and evaluate) C# expressions that answer these questions:"
   ]
  },
  {
   "cell_type": "markdown",
   "id": "9d05b331",
   "metadata": {},
   "source": [
    "a. How many letters are there in 'Supercalifragilisticexpialidocious'?"
   ]
  },
  {
   "cell_type": "code",
   "execution_count": 11,
   "id": "b97f333d",
   "metadata": {},
   "outputs": [
    {
     "name": "stdout",
     "output_type": "stream",
     "text": [
      "There are 34 letters in the word Supercalifragilisticexpialidocious\r\n"
     ]
    }
   ],
   "source": [
    "string input = \"Supercalifragilisticexpialidocious\";\n",
    "Console.WriteLine($\"There are {input.Length} letters in the word {input}\");"
   ]
  },
  {
   "cell_type": "markdown",
   "id": "6ef30626",
   "metadata": {},
   "source": [
    "b. Does 'Supercalifragilisticexpialidocious' contain 'ice' as a substring?"
   ]
  },
  {
   "cell_type": "code",
   "execution_count": 12,
   "id": "ef3071ad",
   "metadata": {},
   "outputs": [
    {
     "name": "stdout",
     "output_type": "stream",
     "text": [
      "True\r\n"
     ]
    }
   ],
   "source": [
    "string input = \"Supercalifragilisticexpialidocious\";\n",
    "bool ans = input.Contains(\"ice\");\n",
    "Console.WriteLine(ans);"
   ]
  },
  {
   "cell_type": "markdown",
   "id": "5208be35",
   "metadata": {},
   "source": [
    "c. Which of the following words is the longest:Supercalifragilisticexpialidocious, Honorificabilitudinitatibus, or Bababadalgharaghtakamminarronnkonn?"
   ]
  },
  {
   "cell_type": "code",
   "execution_count": 10,
   "id": "bedf49dc",
   "metadata": {},
   "outputs": [
    {
     "name": "stdout",
     "output_type": "stream",
     "text": [
      "Therefore the longest word(words) is/are Supercalifragilisticexpialidocious , Bababadalgharaghtakamminarronnkonn\r\n"
     ]
    }
   ],
   "source": [
    "string input1 = \"Supercalifragilisticexpialidocious\";\n",
    "string input2 = \"Honorificabilitudinitatibus\";\n",
    "string input3 = \"Bababadalgharaghtakamminarronnkonn\";\n",
    "\n",
    "int Length1 = input1.Length;\n",
    "int Length2 = input2.Length;\n",
    "int Length3 = input3.Length;\n",
    "\n",
    "string Longestword = \"\";\n",
    "int maxLength = 0;\n",
    " \n",
    "if (Length1 >= maxLength)\n",
    "{\n",
    "  if (Length1 > maxLength)\n",
    "  {\n",
    "    maxLength = Length1;\n",
    "    Longestword = input1;\n",
    "  }\n",
    "  else\n",
    "  {\n",
    "    Longestword += \" , \" + input1;\n",
    "  }\n",
    "}\n",
    "\n",
    "if (Length2 >= maxLength)\n",
    "{\n",
    "  if (Length2 > maxLength)\n",
    "  {\n",
    "    maxLength = Length2;\n",
    "    Longestword = input2;\n",
    "  }\n",
    "  else\n",
    "  {\n",
    "    Longestword += \" , \" + input2;\n",
    "  }\n",
    "}\n",
    "\n",
    "if (Length3 >= maxLength)\n",
    "{\n",
    "  if (Length3 > maxLength)\n",
    "  {\n",
    "    maxLength = Length3;\n",
    "    Longestword = input3;\n",
    "  }\n",
    "  else\n",
    "  {\n",
    "    Longestword += \" , \" + input3;\n",
    "  }\n",
    "}\n",
    "\n",
    "Console.WriteLine(\"Therefore the longest word(words) is/are \" + Longestword);"
   ]
  },
  {
   "cell_type": "markdown",
   "id": "2bd2efff",
   "metadata": {},
   "source": [
    "d. Which composer comes first in the dictionary: 'Berlioz', 'Borodin', 'Brian','Bartok', 'Bellini', 'Buxtehude', 'Bernstein'. Which one comes last?"
   ]
  },
  {
   "cell_type": "code",
   "execution_count": 20,
   "id": "f12d9bdb",
   "metadata": {},
   "outputs": [
    {
     "name": "stdout",
     "output_type": "stream",
     "text": [
      "The composer who comes first in the dictionary is Bartok\n",
      "The composer who comes last in the dictionary is Buxtehude\n"
     ]
    }
   ],
   "source": [
    "string[] composers = {\"Berlioz\", \"Borodin\", \"Brian\", \"Bartok\", \"Bellini\", \"Buxtehude\", \"Bernestein\"};\n",
    "string composer1 = composers[0];\n",
    "string composer2 = composers[0];\n",
    "\n",
    "foreach (string comp in composers)\n",
    "{\n",
    "  if(string.Compare(comp, composer1)<0)\n",
    "  {\n",
    "    composer1 = comp;\n",
    "  }\n",
    "  else if(string.Compare(comp, composer2)>0)\n",
    "  {\n",
    "    composer2 = comp;\n",
    "  }\n",
    "}\n",
    "\n",
    "Console.WriteLine(\"The composer who comes first in the dictionary is \" + composer1);\n",
    "Console.WriteLine(\"The composer who comes last in the dictionary is \" + composer2);"
   ]
  },
  {
   "cell_type": "markdown",
   "id": "4b60e1a1",
   "metadata": {},
   "source": [
    "* Question: 3 C#\n",
    "Implement function triangleArea(a,b,c) that takes as input the lengths of the 3sides of a triangle and returns the area of the triangle. By Heron's formula, the areaof a triangle with side lengths a, b, and c iss(s - a)(s - b)(s - c) , wheres = (a + b + c) /2."
   ]
  },
  {
   "cell_type": "code",
   "execution_count": 22,
   "id": "46d0537d",
   "metadata": {},
   "outputs": [
    {
     "name": "stdout",
     "output_type": "stream",
     "text": [
      "The area of the triangle is 1.7320508075688772\r\n"
     ]
    }
   ],
   "source": [
    "double a=2.0;\n",
    "double b=2.0;\n",
    "double c=2.0;\n",
    "\n",
    "double s = (a + b + c) / 2.0;\n",
    "\n",
    "double area = Math.Sqrt(s * (s-a) * (s-b) * (s-c));\n",
    "\n",
    "Console.WriteLine(\"The area of the triangle is \" + area);"
   ]
  },
  {
   "cell_type": "markdown",
   "id": "bd25abc7",
   "metadata": {},
   "source": [
    "* Question: 4 C#\n",
    "Write a program in C# Sharp to separate odd and even integers in separate arrays.\n",
    "Go to the editor\n",
    "Test Data :\n",
    "Input the number of elements to be stored in the array :5\n",
    "Input 5 elements in the array :\n",
    "element - 0 : 25\n",
    "element - 1 : 47\n",
    "element - 2 : 42\n",
    "element - 3 : 56\n",
    "element - 4 : 32\n",
    "Expected Output:\n",
    "The even elements are: \n",
    "42 56 32\n",
    "The odd elements are:\n",
    "25 47"
   ]
  },
  {
   "cell_type": "code",
   "execution_count": 31,
   "id": "df1d834d",
   "metadata": {},
   "outputs": [
    {
     "name": "stdout",
     "output_type": "stream",
     "text": [
      "Even elements:\n",
      "42 56 32 \n",
      "Odd elements:\n",
      "25 47 \n"
     ]
    }
   ],
   "source": [
    "int n= 5;\n",
    "int[] inputArray = new int[n];\n",
    "int[] evenArray = new int[n];\n",
    "int[] oddArray = new int[n];\n",
    "inputArray[0] = 25;\n",
    "inputArray[1] = 47;\n",
    "inputArray[2] = 42;\n",
    "inputArray[3] = 56;\n",
    "inputArray[4] = 32;\n",
    "int evenCount = 0;\n",
    "int oddCount = 0;\n",
    "foreach (int num in inputArray)\n",
    "{\n",
    "  if (num % 2 == 0)\n",
    "  {\n",
    "    evenArray[evenCount] = num;\n",
    "    evenCount++;\n",
    "  }\n",
    "  else\n",
    "  {\n",
    "    oddArray[oddCount] =num;\n",
    "    oddCount++;\n",
    "  }\n",
    "}\n",
    "\n",
    "Console.WriteLine($\"Even elements:\");\n",
    "for (int i = 0; i < evenCount; i++)\n",
    "{\n",
    "  Console.Write(evenArray[i] + \" \");\n",
    "}\n",
    "Console.WriteLine();\n",
    "\n",
    "\n",
    "Console.WriteLine($\"Odd elements:\");\n",
    "for (int i = 0; i < oddCount; i++)\n",
    "{\n",
    "  Console.Write(oddArray[i] + \" \");\n",
    "}\n",
    "Console.WriteLine();"
   ]
  },
  {
   "cell_type": "markdown",
   "id": "a341de9a",
   "metadata": {},
   "source": [
    "* Question: 5 C#\n",
    "a. Write a function inside(x,y,x1,y1,x2,y2) that returns True or False depending on whether the point (x,y) lies in the rectangle with lower leftcorner (x1,y1) and upper right corner (x2,y2)."
   ]
  },
  {
   "cell_type": "code",
   "execution_count": 23,
   "id": "0665ae0c",
   "metadata": {},
   "outputs": [
    {
     "name": "stdout",
     "output_type": "stream",
     "text": [
      "Inside (1,1,0,0,2,3): TRUE\n",
      "Inside (-1,-1,0,0,2,3): FALSE\n"
     ]
    }
   ],
   "source": [
    "static bool inside(double x, double y, double x1, double y1, double x2, double y2)\n",
    "{\n",
    "  return (x >= x1 && x <= x2 && y1 <= y && y <= y2);\n",
    "}\n",
    "bool insideRect1 = inside(1,1,0,0,2,3);\n",
    "bool insideRect2 = inside(-1,-1,0,0,2,3);\n",
    "\n",
    "if (insideRect1)\n",
    "{\n",
    "  Console.WriteLine($\"Inside (1,1,0,0,2,3): TRUE\");\n",
    "}\n",
    "else\n",
    "{\n",
    "  Console.WriteLine($\"Inside (1,1,0,0,2,3): FALSE\");\n",
    "}\n",
    "\n",
    "if (insideRect2)\n",
    "{\n",
    "  Console.WriteLine($\"Inside (-1,-1,0,0,2,3): TRUE\");\n",
    "}\n",
    "else\n",
    "{\n",
    "  Console.WriteLine($\"Inside (-1,-1,0,0,2,3): FALSE\");\n",
    "}"
   ]
  },
  {
   "cell_type": "markdown",
   "id": "43a56445",
   "metadata": {},
   "source": [
    "b. Use function inside() from part a. to write an expression that tests whetherthe point (1,1) lies in both of the following rectangles: one with lower leftcorner (0.3, 0.5) and upper right corner (1.1, 0.7) and the other with lowerleft corner (0.5, 0.2) and upper right corner (1.1, 2)."
   ]
  },
  {
   "cell_type": "code",
   "execution_count": 27,
   "id": "9fa17639",
   "metadata": {},
   "outputs": [
    {
     "name": "stdout",
     "output_type": "stream",
     "text": [
      "The point (1,1) not lies inside both rectangles\r\n"
     ]
    }
   ],
   "source": [
    "static bool inside(double x, double y, double x1, double y1, double x2, double y2)\n",
    "{\n",
    "  return (x >=x1 && x <= x2 && y1 <= y && y <= y2);\n",
    "}\n",
    "bool insideRect1 = inside(1,1,0.3,0.5,1.1,0.7);\n",
    "bool insideRect2 = inside(1,1,0.5,0.2,1.1,2);\n",
    "\n",
    "if (insideRect1 && insideRect2)\n",
    "{\n",
    "  Console.WriteLine($\"The point (1,1) lies inside both rectangles\");\n",
    "}\n",
    "else\n",
    "{\n",
    "  Console.WriteLine($\"The point (1,1) not lies inside both rectangles\");\n",
    "}"
   ]
  }
 ],
 "metadata": {
  "kernelspec": {
   "display_name": ".NET (C#)",
   "language": "C#",
   "name": ".net-csharp"
  },
  "language_info": {
   "file_extension": ".cs",
   "mimetype": "text/x-csharp",
   "name": "C#",
   "pygments_lexer": "csharp",
   "version": "8.0"
  }
 },
 "nbformat": 4,
 "nbformat_minor": 5
}
